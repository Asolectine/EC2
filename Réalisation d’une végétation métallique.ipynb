{
 "cells": [
  {
   "cell_type": "markdown",
   "metadata": {},
   "source": [
    "# Réalisation d’une végétation métallique"
   ]
  },
  {
   "cell_type": "markdown",
   "metadata": {},
   "source": [
    "Le programme suivant, écrit en langage Python, permet de calculer la masse d’argent déposée sur le fil de cuivre"
   ]
  },
  {
   "cell_type": "code",
   "execution_count": null,
   "metadata": {},
   "outputs": [],
   "source": [
    "### saisie des données initiales ###\n",
    "m_cu=float(input(\"\"\"Masse du fil en g : \"\"\"))\n",
    "c=float(input(\"\"\"Concentration de la solution de nitrate d'argent en mol/L : \"\"\"))\n",
    "v=0.001*float(input(\"\"\"Volume de la solution en mL : \"\"\"))\n"
   ]
  },
  {
   "cell_type": "code",
   "execution_count": null,
   "metadata": {},
   "outputs": [],
   "source": [
    "### Calcul des initiales ###\n",
    "n_cu=m_cu/63.5\n",
    "n_ag=c*v\n",
    "\n",
    "### Quantité initiale minimale de cuivre ###\n",
    "n_mini=n_ag/2\n",
    "\n",
    "### Vérification du cuivre en excès ###\n",
    "if n_cu<n_mini :\n",
    "    print(\"\"\"La masse choisie pour le fil du cuivre est insuffisant, le fil risque de casser avant que le système n'ait atteint son état final.\"\"\")\n",
    "else :\n",
    "### Calcul de la masse d'argent déposé ###\n",
    "    m_agsolide=n_ag*107.9\n",
    "    print(\"\"\"La masse d'argent déposée vaut : \"\"\",m_agsolide,\"\"\"g \"\"\")"
   ]
  },
  {
   "cell_type": "markdown",
   "metadata": {},
   "source": [
    "<font size=\"1\"> contact : sophie.gronlier@ac-lille.fr </font>"
   ]
  }
 ],
 "metadata": {
  "kernelspec": {
   "display_name": "Python 3",
   "language": "python",
   "name": "python3"
  },
  "language_info": {
   "codemirror_mode": {
    "name": "ipython",
    "version": 3
   },
   "file_extension": ".py",
   "mimetype": "text/x-python",
   "name": "python",
   "nbconvert_exporter": "python",
   "pygments_lexer": "ipython3",
   "version": "3.7.6"
  }
 },
 "nbformat": 4,
 "nbformat_minor": 4
}
