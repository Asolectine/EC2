{
 "cells": [
  {
   "cell_type": "markdown",
   "metadata": {},
   "source": [
    "# Un drone pour ausculter la couverture végétale"
   ]
  },
  {
   "cell_type": "markdown",
   "metadata": {},
   "source": [
    "### Partie 1 : étude du vol du drone"
   ]
  },
  {
   "cell_type": "markdown",
   "metadata": {},
   "source": [
    "Les courbes montrant l’évolution des énergies cinétique Ec et mécanique Em ont été obtenues grâce au programme en langage Python et à partir des relevés du temps de vol, de \n",
    "la vitesse d’évolution du drone et de son altitude lors du vol d’observation."
   ]
  },
  {
   "cell_type": "code",
   "execution_count": null,
   "metadata": {},
   "outputs": [],
   "source": [
    "# Importation du module graphique \n",
    "import matplotlib.pyplot as plt"
   ]
  },
  {
   "cell_type": "code",
   "execution_count": null,
   "metadata": {},
   "outputs": [],
   "source": [
    "t=[0,1,2,3,4,5,6,7,8,9]                                            # temps de vol en minutes\n",
    "vitesse=[11.95,11.85,12.0,11.95,12.0,11.90,12.0,11.90,12.05,12.01] # vitesse de vol en m/s\n",
    "altitude=[......]           #altitude de vol en m\n",
    "\n",
    "Ec=[]                                                              # Création des listes de valeurs Ec, Epp et Em\n",
    "Epp=[]\n",
    "Em=[]\n",
    "\n",
    "for i in t:                       # boucle itérative pour calculer Ec(J), Epp(J) et Em(J). La fonction \"append\" permet d'ajouter la valeur\n",
    "                                  # calculée à la fin de la liste de valeurs\n",
    "                                  # Eci : Ec à la position i de la liste de t, Eppi : Epp à la position i de la liste t\n",
    "    Eci=(0.700*vitesse[i]**2)/2\n",
    "    Ec.append(Eci) \n",
    "    \n",
    "    Emi=Eci+Eppi\n",
    "    Em.append(Emi)\n",
    "    \n",
    "                              # Tracé des courbes Ec=f(t) et Em= f(t) puis affichage\n",
    "plt.plot(t,Ec,'.',label='Ec') # légère modification afin d'afficher le graphique comme sur le sujet\n",
    "\n",
    "\n",
    "plt.plot(t,Em,'s',label='Em')  # légère modification afin d'afficher le graphique comme sur le sujet\n",
    "\n",
    "plt.legend()\n",
    "plt.show()"
   ]
  },
  {
   "cell_type": "markdown",
   "metadata": {},
   "source": [
    "<font size=\"1\"> contact : sophie.gronlier@ac-lille.fr </font>"
   ]
  }
 ],
 "metadata": {
  "kernelspec": {
   "display_name": "Python 3",
   "language": "python",
   "name": "python3"
  },
  "language_info": {
   "codemirror_mode": {
    "name": "ipython",
    "version": 3
   },
   "file_extension": ".py",
   "mimetype": "text/x-python",
   "name": "python",
   "nbconvert_exporter": "python",
   "pygments_lexer": "ipython3",
   "version": "3.7.6"
  }
 },
 "nbformat": 4,
 "nbformat_minor": 4
}
