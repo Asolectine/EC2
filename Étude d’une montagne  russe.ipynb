{
 "cells": [
  {
   "cell_type": "markdown",
   "metadata": {},
   "source": [
    "# Étude d’une montagne russe"
   ]
  },
  {
   "cell_type": "markdown",
   "metadata": {},
   "source": [
    "2. Simulation de la propulsion du train"
   ]
  },
  {
   "cell_type": "markdown",
   "metadata": {},
   "source": [
    "Afin d’illustrer la phase de lancement, le programme suivant écrit en langage Python permet de simuler la trajectoire du train ainsi que de tracer les vecteurs variation de vitesse\n",
    "Dv en quelques points de cette trajectoire sur une durée Dt. Le modèle utilisé formule l’hypothèse d’un mouvement à accélération constante"
   ]
  },
  {
   "cell_type": "code",
   "execution_count": 7,
   "metadata": {},
   "outputs": [
    {
     "name": "stdout",
     "output_type": "stream",
     "text": [
      "5.54\n"
     ]
    },
    {
     "data": {
      "image/png": "[encoded data removed]",
      "text/plain": [
       "<Figure size 432x288 with 1 Axes>"
      ]
     },
     "metadata": {
      "needs_background": "light"
     },
     "output_type": "display_data"
    }
   ],
   "source": [
    "# Modélisation de la trajectoire d'un train de parc d'attraction\n",
    "# lors de son lancement\n",
    "\n",
    "#Importation de librairie\n",
    "import matplotlib.pyplot as plt\n",
    "\n",
    "# Déclaration des listes de coordonnées\n",
    "x,v_x,Dv_x=[],[],[]\n",
    "y=[0,0,0,0,0,0,0]\n",
    "\n",
    "# Durée entre chaque point\n",
    "Dt=0.5\n",
    "\n",
    "# Calcul des coordonnées des points par modélisation\n",
    "for k in range(0,7):\n",
    "    t=k*Dt\n",
    "    x.extend([5.54*t**2])\n",
    "    \n",
    "# Représentation des points de la trajectoire\n",
    "plt.plot(x,y,'+',markersize=4)\n",
    "\n",
    "# Calcul des coordonnées des vecteurs vitesse et vecteurs variation de vitesse en chapque point\n",
    "for k in range(0,6):\n",
    "    v_x.extend([.....])\n",
    "for k in range(0,5):\n",
    "    Dv_x.extend([(v_x[k+1]-v_x[k])])\n",
    "\n",
    "# Tracé des vecteurs variation de vitesse au point M2 et M4\n",
    "facteur=2 # Facteur d'échelle des vecteurs\n",
    "plt.quiver(x[2],y[2],Dv_x[2]*facteur,0,color=\"blue\", scale=1, scale_units='xy')\n",
    "plt.quiver(x[4],y[4],Dv_x[4]*facteur,0,color=\"blue\", scale=1, scale_units='xy')\n",
    "# Tracé d'un vecteur légende pour les vecteurs variation de vitesse\n",
    "plt.quiver(0,0.1,5*facteur,0,color=\"blue\",scale=1,scale_units='xy')\n",
    "\n",
    "# Configurer l'aspect du graphique\n",
    "plt.xlabel(\"x (en m)\")\n",
    "plt.ylabel(\"y (en m)\")\n",
    "plt.title(\"Trajectoire du train et vecteurs Dv en certains points\")\n",
    "\n",
    "print(x[2])"
   ]
  }
 ],
 "metadata": {
  "kernelspec": {
   "display_name": "Python 3",
   "language": "python",
   "name": "python3"
  },
  "language_info": {
   "codemirror_mode": {
    "name": "ipython",
    "version": 3
   },
   "file_extension": ".py",
   "mimetype": "text/x-python",
   "name": "python",
   "nbconvert_exporter": "python",
   "pygments_lexer": "ipython3",
   "version": "3.7.6"
  }
 },
 "nbformat": 4,
 "nbformat_minor": 4
}
