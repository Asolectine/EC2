{
 "cells": [
  {
   "cell_type": "markdown",
   "metadata": {},
   "source": [
    "# Aspects énergétiques des phénomènes mécaniques : Le ski de vitesse"
   ]
  },
  {
   "cell_type": "markdown",
   "metadata": {},
   "source": [
    "Partie 2 : mouvement d’un mobile autoporteur"
   ]
  },
  {
   "cell_type": "markdown",
   "metadata": {},
   "source": [
    "Ce programme python permet de représenter l’évolution de l’énergie cinétique Ec du système au cours du temps."
   ]
  },
  {
   "cell_type": "code",
   "execution_count": null,
   "metadata": {},
   "outputs": [],
   "source": [
    "import matplotlib.pyplot as plt"
   ]
  },
  {
   "cell_type": "code",
   "execution_count": null,
   "metadata": {},
   "outputs": [],
   "source": [
    "m=0.220 #valeur de m en kg\n",
    "alpha=0.2618 #valeur de alpha en radian\n",
    "\n",
    "#liste des dates relevées, des positions, des vitesses et des altitudes\n",
    "tps=[0.000,0.100,0.200,0.300,0.400,0.500,0.600,0.700,0.800]\n",
    "pos=[0.000,0.019,0.076,0.171,0.303,0.474,0.682,0.928,1.212]\n",
    "vit=[0.000,0.3789,0.7578,1.1367,1.5156,1.8945,2.2734,2.6523,3.0312]\n",
    "alt=[1.000,0.991,0.962,0.915,0.848,0.763,0.659,0.536,0.394]\n",
    "\n",
    "Ec=[1/2*m*v**2 for v in vit]  #crée la liste Ec\n",
    "\n",
    "\n",
    "\n",
    "plt.grid(True)\n",
    "plt.scatter(tps,Ec,c='red') #ligne ajoutée par rapport au sujet qui permet de faire figurer les points\n",
    "plt.plot(tps,Ec,\"red\")\n",
    "\n",
    "\n",
    "\n",
    "plt.xlabel(\"t en s\")\n",
    "plt.ylabel(\"Ec en J\")\n",
    "\n",
    "plt.title(\"Bilan énergétique\")\n",
    "\n",
    "plt.show()"
   ]
  }
 ],
 "metadata": {
  "kernelspec": {
   "display_name": "Python 3",
   "language": "python",
   "name": "python3"
  },
  "language_info": {
   "codemirror_mode": {
    "name": "ipython",
    "version": 3
   },
   "file_extension": ".py",
   "mimetype": "text/x-python",
   "name": "python",
   "nbconvert_exporter": "python",
   "pygments_lexer": "ipython3",
   "version": "3.7.6"
  }
 },
 "nbformat": 4,
 "nbformat_minor": 4
}
