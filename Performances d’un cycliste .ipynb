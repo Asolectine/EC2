{
 "cells": [
  {
   "cell_type": "markdown",
   "metadata": {},
   "source": [
    "# Performances d’un cycliste "
   ]
  },
  {
   "cell_type": "markdown",
   "metadata": {},
   "source": [
    "### 2. Étude énergétique du système {Vélo + cycliste} et simulation numérique"
   ]
  },
  {
   "cell_type": "markdown",
   "metadata": {},
   "source": [
    "L’objectif est d’estimer avec nos hypothèses simplificatrices la valeur de la vitesse du cycliste.\n",
    "La simulation écrite en langage Python ci-dessous permet d'analyser l’évolution des énergies."
   ]
  },
  {
   "cell_type": "code",
   "execution_count": null,
   "metadata": {},
   "outputs": [],
   "source": [
    "# ---- Importation du module graphique -----------\n",
    "import matplotlib.pyplot as plt\n",
    "\n",
    "#---- Initialisation des constantes --------------\n",
    "m=?     # compléter par la valeur de la masse du système S\n",
    "g=9.8   # intensité du champ de pesanteur en N/kg\n",
    "v=?     # compléter par la valeur de la vitesse moyenne de Froome en m/s\n",
    "\n",
    "#---- Création des listes de valeurs des énergies et de l'altitude z\n",
    "altitudes=[]\n",
    "Ec=[]\n",
    "Epp=[]\n",
    "\n",
    "#---- Construction des listes de valeurs des énergies et des altitudes\n",
    "for z in range (0,1501,100):      # à justifier\n",
    "    altitudes.append(z)\n",
    "    Ec.append(?)                  # Compléter par l'expression de l'énergie cinétique\n",
    "    Epp.append(?)                 # Compléter par l'expression de l'énergie potentielle\n",
    "    \n",
    "#---- Tracés des courbes des énergies\n",
    "plt.figure(1)\n",
    "plt.plot(altitudes,Epp,'k.',label='énergie potentielle de pesanteur')\n",
    "plt.legend(loc='lower right')\n",
    "plt.grid()\n",
    "plt.xlabel('altitude en m')\n",
    "plt.ylabel('Energie en J')\n",
    "plt.figure(2)\n",
    "plt.plot(altitudes,Ec,'k.',label='énergie cinétique')\n",
    "plt.legend(loc='lower right')\n",
    "plt.grid()\n",
    "plt.xlabel('altitude en m')\n",
    "plt.ylabel('Energie en J')\n",
    "plt.show()"
   ]
  },
  {
   "cell_type": "markdown",
   "metadata": {},
   "source": [
    "<font size=\"1\"> contact : sophie.gronlier@ac-lille.fr </font>"
   ]
  }
 ],
 "metadata": {
  "kernelspec": {
   "display_name": "Python 3",
   "language": "python",
   "name": "python3"
  },
  "language_info": {
   "codemirror_mode": {
    "name": "ipython",
    "version": 3
   },
   "file_extension": ".py",
   "mimetype": "text/x-python",
   "name": "python",
   "nbconvert_exporter": "python",
   "pygments_lexer": "ipython3",
   "version": "3.7.6"
  }
 },
 "nbformat": 4,
 "nbformat_minor": 4
}
