{
 "cells": [
  {
   "cell_type": "markdown",
   "metadata": {},
   "source": [
    "# Cloche de plongée"
   ]
  },
  {
   "cell_type": "markdown",
   "metadata": {},
   "source": [
    "### 1. Étude expérimentale de la loi de Mariott"
   ]
  },
  {
   "cell_type": "markdown",
   "metadata": {},
   "source": [
    "On utilise un programme écrit en langage Python pour tracer la courbe donnant la pression P en fonction de l’inverse du volume V."
   ]
  },
  {
   "cell_type": "code",
   "execution_count": null,
   "metadata": {},
   "outputs": [],
   "source": [
    "import matplotlib.pyplot as pyplot"
   ]
  },
  {
   "cell_type": "code",
   "execution_count": null,
   "metadata": {},
   "outputs": [],
   "source": [
    "pression = [1011,1127,1261,1419,1633,1932]\n",
    "volume = [25,30,35,40,45,50]\n",
    "invVolume = []\n",
    "pyplot.axis([0,0.05,0,2000])\n",
    "pyplot.xlabel(\"1/V (mL-1)\")\n",
    "pyplot.ylabel(\"p (hPa)\")\n",
    "pyplot.title(\"Etude de la loi de Mariotte\")\n",
    "for i in range (0,6):\n",
    "              invVolume.append(1/volume[i])\n",
    "pyplot.scatter (invVolume,pression,color='black',marker='+')\n",
    "pyplot.show()"
   ]
  },
  {
   "cell_type": "markdown",
   "metadata": {},
   "source": [
    "<font size=\"1\"> contact : sophie.gronlier@ac-lille.fr </font>"
   ]
  }
 ],
 "metadata": {
  "kernelspec": {
   "display_name": "Python 3",
   "language": "python",
   "name": "python3"
  },
  "language_info": {
   "codemirror_mode": {
    "name": "ipython",
    "version": 3
   },
   "file_extension": ".py",
   "mimetype": "text/x-python",
   "name": "python",
   "nbconvert_exporter": "python",
   "pygments_lexer": "ipython3",
   "version": "3.7.6"
  }
 },
 "nbformat": 4,
 "nbformat_minor": 4
}
