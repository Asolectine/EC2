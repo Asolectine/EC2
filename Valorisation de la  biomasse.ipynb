{
 "cells": [
  {
   "cell_type": "markdown",
   "metadata": {},
   "source": [
    "# Valorisation de la biomasse"
   ]
  },
  {
   "cell_type": "markdown",
   "metadata": {},
   "source": [
    "### 2. Étude de la combustion d’un biocarburant"
   ]
  },
  {
   "cell_type": "markdown",
   "metadata": {},
   "source": [
    "Le programme python ci-dessous permet de calculer et d’afficher l’état final du système et l’avancement final de la réaction de combustion de 2,0  moles de 2,2,4-triméthylpentane avec 5,0 moles de dioxygène."
   ]
  },
  {
   "cell_type": "code",
   "execution_count": null,
   "metadata": {},
   "outputs": [],
   "source": [
    "especes=[\"2,2,4-trimethylpentane\",\"O2\",\"CO2\",\"H2O\"]\n",
    "coefficients=[-1,-25/2,8,9]\n",
    "qi=[2.,5.,0.,0.]           # Quantités de matières initiales en moles\n",
    "qf=qi[:]                   # Quantités de matière à l'instant t=0\n",
    "                           # identiques aux quantités initiales\n",
    "pas=0.00001                # Pas de la simulation en moles\n",
    "\n",
    "x=0                        # Avancement initial en moles\n",
    "while qf[0]>0 and qf[1]>0: # Tant que la condition est vraie\n",
    "    x=x+pas                # L'avancement augmente de la valeur du pas\n",
    "    for i in range(4):     # Pour chacune des 4 espèces\n",
    "        qf[i]=qi[i]+coefficients[i]*x  #Calcul des nouvelles quantités de matière\n",
    "        \n",
    "print(\"====== Etat Final ======\")\n",
    "for i in range(4):                               # Pour chacune des 4 espèces\n",
    "    print(\"{}:{:.3f}\".format(especes[i],qf[i]))  # On affiche la quantité de matière \n",
    "                                                 # à l'état final avec 3 chiffres après la virgule\n",
    "        \n",
    "print(\"Avancement final : xf={:.3f} mol\".format(x)) # On affiche 'avancement final'\n",
    "                                                   # à l'état final avec 3 chiffres après la virgule"
   ]
  },
  {
   "cell_type": "markdown",
   "metadata": {},
   "source": [
    "<font size=\"1\"> contact : sophie.gronlier@ac-lille.fr </font>"
   ]
  }
 ],
 "metadata": {
  "kernelspec": {
   "display_name": "Python 3",
   "language": "python",
   "name": "python3"
  },
  "language_info": {
   "codemirror_mode": {
    "name": "ipython",
    "version": 3
   },
   "file_extension": ".py",
   "mimetype": "text/x-python",
   "name": "python",
   "nbconvert_exporter": "python",
   "pygments_lexer": "ipython3",
   "version": "3.7.6"
  }
 },
 "nbformat": 4,
 "nbformat_minor": 4
}
