{
 "cells": [
  {
   "cell_type": "markdown",
   "metadata": {},
   "source": [
    "# Une éolienne à la maison"
   ]
  },
  {
   "cell_type": "markdown",
   "metadata": {},
   "source": [
    "### 3.Consommer l’électricité "
   ]
  },
  {
   "cell_type": "markdown",
   "metadata": {},
   "source": [
    "La puissance électrique utilisable par le propriétaire de la maison lors de la décharge des batteries est de l’ordre de 6 kW. \n",
    "Pour suivre sa consommation d’électricité, le propriétaire a réalisé un programme en langage Python s’appuyant sur un classement des appareils électriques par pack, c’est-à-dire par groupe d’appareils de même puissance électrique. "
   ]
  },
  {
   "cell_type": "code",
   "execution_count": null,
   "metadata": {},
   "outputs": [],
   "source": [
    " # Bilan consommation électrique journalière\n",
    "# pack1 = appareils de puissance 2,5 kW\n",
    "# pack2 = appareils de puissance 1 kW\n",
    "# pack3 = appareils de puissance 0,1 kW\n",
    "t_1 = float(input('durée journalière utilisation du pack1 : '))\n",
    "t_2 = float(input('durée journalière utilisation du pack2 : '))\n",
    "t_3 = float(input('durée journalière utilisation du pack3 : '))\n",
    "E_1 = 2.5*t_1\n",
    "E_2 = 1*t_2\n",
    "E_3 = 0.1*t_3\n",
    "E_totale_consommée = E_1+E_2+E_3\n",
    "\n",
    "\n",
    "# 1 kWh coûterait 0,15 euros\n",
    "Economie_journaliere = E_totale_consommée * 0.15\n",
    "print(\"L'énergie électrique du pack1 vaut E_1 = \",E_1,\"kWh\")\n",
    "print(\"L'énergie électrique du pack2 vaut E_2 = \",E_2,\"kWh\")\n",
    "print(\"L'énergie électrique du pack1 vaut E_3 = \",E_3,\"kWh\")\n",
    "print(\"L'économie réalisée vaut\", Economie_journaliere,'euros')"
   ]
  },
  {
   "cell_type": "markdown",
   "metadata": {},
   "source": [
    "<font size=\"1\"> contact : sophie.gronlier@ac-lille.fr </font>"
   ]
  }
 ],
 "metadata": {
  "kernelspec": {
   "display_name": "Python 3",
   "language": "python",
   "name": "python3"
  },
  "language_info": {
   "codemirror_mode": {
    "name": "ipython",
    "version": 3
   },
   "file_extension": ".py",
   "mimetype": "text/x-python",
   "name": "python",
   "nbconvert_exporter": "python",
   "pygments_lexer": "ipython3",
   "version": "3.7.6"
  }
 },
 "nbformat": 4,
 "nbformat_minor": 4
}
