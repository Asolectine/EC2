{
 "cells": [
  {
   "cell_type": "markdown",
   "metadata": {},
   "source": [
    "# Séisme : comment localiser son épicentre ?"
   ]
  },
  {
   "cell_type": "markdown",
   "metadata": {},
   "source": [
    "Localisation de l’épicentre"
   ]
  },
  {
   "cell_type": "markdown",
   "metadata": {},
   "source": [
    "Pour déterminer graphiquement la position de l’épicentre, on a utilisé un programme informatique en langage Python. Ce programme permet de créer un fond de carte, de positionner les trois stations LFCV, HPAP et GCAPE, de tracer des cercles dont les centres sont les stations."
   ]
  },
  {
   "cell_type": "code",
   "execution_count": null,
   "metadata": {},
   "outputs": [],
   "source": [
    "# Ce programme en Langage Python permet de positionner l'épicentre d'un séisme \n",
    "# à partir de stations de sismographie.\n",
    "\n",
    "# Importe la bobliothèque folium qui contient des éléments de la carte\n",
    "import folium\n",
    "\n",
    "# Crée une carte que l'on nomme CarteEpicentre\n",
    "# Cette carte est centrée sur la latitude et la longitude, indiquées dans \n",
    "# Location=[,] et zoom_start donne la valeur du zoom utilisé pour la carte\n",
    "CarteEpicentre=folium.Map(location=[10,-60],zoom_start=5)\n",
    "\n",
    "# Crée des tableaux de valeurs avec la latitude, la longitude, le nom, \n",
    "# et la distance à l'épicentre pour chaque station de sismographie\n",
    "lat=[10.191,18.54,16.2706]\n",
    "long=[-66.832,-72.32,-61.504]\n",
    "nom_station=['LFCV','HPAP','GCAPE']\n",
    "distance_epicentre=[1.93,2.39]\n",
    "\n",
    "# Crée 3 icones (3 marqueurs) sur la carte, avec nom et position des stations\n",
    "for i in range(3):\n",
    "    folium.Marker([lat[i],long[i]],popup=folium.Popup(nom_station[i]),\n",
    "    icon=folium.Icon(icon=\"flag\")).add_to(CarteEpicentre)\n",
    "\n",
    "# Crée 2 cercles de rayon L autour des stations LFCV et HPAP\n",
    "# le rayon est calculé à partir de L et d'un facteur d'échelle adapté\n",
    "# au zoom choisi (ici 120)\n",
    "for i in range (2):\n",
    "    folium.CircleMarker([lat[i],long[i]],\n",
    "    radius=120*distance_epicentre[i]).add_to(CarteEpicentre)\n",
    "    \n",
    "# Enfin on crée un fichier dans un format lisible pour l'utilisateur dont\n",
    "# on indique le nom \"CarteFinale\" et l'extension \"html\"\n",
    "CarteEpicentre.save('CarteFinale.html')"
   ]
  },
  {
   "cell_type": "code",
   "execution_count": null,
   "metadata": {},
   "outputs": [],
   "source": [
    "#Pour visualiser la carte créée\n",
    "CarteEpicentre "
   ]
  }
 ],
 "metadata": {
  "kernelspec": {
   "display_name": "Python 3",
   "language": "python",
   "name": "python3"
  },
  "language_info": {
   "codemirror_mode": {
    "name": "ipython",
    "version": 3
   },
   "file_extension": ".py",
   "mimetype": "text/x-python",
   "name": "python",
   "nbconvert_exporter": "python",
   "pygments_lexer": "ipython3",
   "version": "3.7.6"
  }
 },
 "nbformat": 4,
 "nbformat_minor": 4
}
