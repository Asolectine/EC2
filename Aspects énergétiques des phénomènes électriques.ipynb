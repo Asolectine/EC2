{
 "cells": [
  {
   "cell_type": "markdown",
   "metadata": {},
   "source": [
    "# Aspects énergétiques des phénomènes électriques"
   ]
  },
  {
   "cell_type": "markdown",
   "metadata": {},
   "source": [
    "### Partie 3 : modélisation d’une résistance chauffante au laboratoire"
   ]
  },
  {
   "cell_type": "markdown",
   "metadata": {},
   "source": [
    "Compléter ce programme écrit en langage Python aux emplacements '#2', '#3' et '#4' afin que celui-ci réalise le tracé de l’écart de température T-T1 en fonction du temps exprimé en secondes"
   ]
  },
  {
   "cell_type": "code",
   "execution_count": null,
   "metadata": {},
   "outputs": [],
   "source": [
    "import matplotlib.pyplot as plt\n",
    "temps=       #2 liste des valeurs de temps en secondes\n",
    "ecart_T=     #3 liste des valeurs des écarts de températures en °C \n",
    "plt.plot( , ,'ro',marker='+')  #4 tracé de ecart_T en fonction du temps\n",
    "\n",
    "plt.grid(True)   #affiche une grille sur le graphe  \n",
    "plt.xlabel(\"t en s\") #nom de l'abcisse\n",
    "plt.ylabel(\"ecart temperature en degres\") #nom de l'ordonnée \n",
    "plt.title(\"ecart temperature en fonction du temps\") \n",
    "plt.savefig('graphe2.png') \n",
    "plt.show()"
   ]
  },
  {
   "cell_type": "markdown",
   "metadata": {},
   "source": [
    "<font size=\"1\"> contact : sophie.gronlier@ac-lille.fr </font>"
   ]
  }
 ],
 "metadata": {
  "kernelspec": {
   "display_name": "Python 3",
   "language": "python",
   "name": "python3"
  },
  "language_info": {
   "codemirror_mode": {
    "name": "ipython",
    "version": 3
   },
   "file_extension": ".py",
   "mimetype": "text/x-python",
   "name": "python",
   "nbconvert_exporter": "python",
   "pygments_lexer": "ipython3",
   "version": "3.7.6"
  }
 },
 "nbformat": 4,
 "nbformat_minor": 4
}
