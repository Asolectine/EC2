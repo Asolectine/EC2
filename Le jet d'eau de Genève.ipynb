{
 "cells": [
  {
   "cell_type": "markdown",
   "metadata": {},
   "source": [
    "# Le jet d'eau de Genève"
   ]
  },
  {
   "cell_type": "markdown",
   "metadata": {},
   "source": [
    "2. Un modèle plus complexe"
   ]
  },
  {
   "cell_type": "markdown",
   "metadata": {},
   "source": [
    "Une modélisation plus complexe permet d’obtenir les expressions de l’altitude z et de la vitesse v de la goutte en fonction du temps. On utilise le langage python afin d’obtenir le graphique des différentes énergies en fonction du temps.\n",
    "Dans cette partie, la hauteur du jet est notée h2."
   ]
  },
  {
   "cell_type": "code",
   "execution_count": null,
   "metadata": {},
   "outputs": [],
   "source": [
    "from pylab import *"
   ]
  },
  {
   "cell_type": "code",
   "execution_count": null,
   "metadata": {},
   "outputs": [],
   "source": [
    "# Echelle de l'axe des abcisses\n",
    "t=linspace(0,4.88,100)\n",
    "\n",
    "# Définition des constantes\n",
    "m=34*10**-6  #masse d'une goutte d'eau\n",
    "g=9.81       # champ de pesanteur\n",
    "v0=55.6      # vitesse initiale\n",
    "f=1.24*m\n",
    "\n",
    "# Expressions de la vitesse et de l'altitude\n",
    "v=-(g+f/m)*t+v0\n",
    "z=-0.5*(g+f/m)*t**2+v0*t\n",
    "\n",
    "# Expression des énergies\n",
    "\n",
    "\n",
    "Em=Ec+Ep\n",
    "\n",
    "# Courbes des énergies\n",
    "plot(t,Ec,\"b-.\",linewidth=1,label=\"Ec\")\n",
    "plot(t,Ep,\"b--\",linewidth=1,label=\"Ep\")\n",
    "plot(t,Em,\"b-\",linewidth=1,label=\"Em\")\n",
    "\n",
    "xlabel(\"Temps (en s)\")\n",
    "ylabel(\"Energie (en J)\")\n",
    "legend()\n",
    "show()"
   ]
  }
 ],
 "metadata": {
  "kernelspec": {
   "display_name": "Python 3",
   "language": "python",
   "name": "python3"
  },
  "language_info": {
   "codemirror_mode": {
    "name": "ipython",
    "version": 3
   },
   "file_extension": ".py",
   "mimetype": "text/x-python",
   "name": "python",
   "nbconvert_exporter": "python",
   "pygments_lexer": "ipython3",
   "version": "3.7.6"
  }
 },
 "nbformat": 4,
 "nbformat_minor": 4
}
